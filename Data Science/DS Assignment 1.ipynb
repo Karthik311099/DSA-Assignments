{
 "cells": [
  {
   "cell_type": "markdown",
   "id": "37a3be63",
   "metadata": {},
   "source": [
    "#### 1.Write a Python program to reverse a string without using any built-in string reversal functions."
   ]
  },
  {
   "cell_type": "code",
   "execution_count": 1,
   "id": "5300bd22",
   "metadata": {},
   "outputs": [
    {
     "name": "stdout",
     "output_type": "stream",
     "text": [
      "norueNi\n"
     ]
    }
   ],
   "source": [
    "def reverse_string(string):\n",
    "    reversed_string = \"\"\n",
    "    for i in range(len(string)-1, -1, -1):\n",
    "        reversed_string += string[i]\n",
    "    return reversed_string\n",
    "\n",
    "input_string = \"iNeuron\"\n",
    "reversed_string = reverse_string(input_string)\n",
    "print(reversed_string)"
   ]
  },
  {
   "cell_type": "markdown",
   "id": "37dde763",
   "metadata": {},
   "source": [
    "#### 2. Implement a function to check if a given string is a palindrome."
   ]
  },
  {
   "cell_type": "code",
   "execution_count": 2,
   "id": "73540557",
   "metadata": {},
   "outputs": [
    {
     "name": "stdout",
     "output_type": "stream",
     "text": [
      "The word madam is a palindrome.\n"
     ]
    }
   ],
   "source": [
    "def is_palindrome(string):\n",
    "    reversed_string = reverse_string(string)\n",
    "    return string == reversed_string\n",
    "\n",
    "input_string = \"madam\"\n",
    "if is_palindrome(input_string):\n",
    "    print(f\"The word {input_string} is a palindrome.\")\n",
    "else:\n",
    "    print(f\"The word {input_string} is not a palindrome.\")"
   ]
  },
  {
   "cell_type": "markdown",
   "id": "136ec32f",
   "metadata": {},
   "source": [
    "#### 3. Write a program to find the largest element in a given list"
   ]
  },
  {
   "cell_type": "code",
   "execution_count": 3,
   "id": "35011176",
   "metadata": {},
   "outputs": [
    {
     "name": "stdout",
     "output_type": "stream",
     "text": [
      "The largest number is: 23\n"
     ]
    }
   ],
   "source": [
    "def find_largest_element(lst):\n",
    "    largest = lst[0]\n",
    "    for num in lst:\n",
    "        if num > largest:\n",
    "            largest = num\n",
    "    return largest\n",
    "\n",
    "numbers = [10, 7, 23, 4, 15, 9]\n",
    "largest_number = find_largest_element(numbers)\n",
    "print(\"The largest number is:\", largest_number)"
   ]
  },
  {
   "cell_type": "markdown",
   "id": "a1291057",
   "metadata": {},
   "source": [
    "#### 4. Implement a function to count the occurrence of each element in a list."
   ]
  },
  {
   "cell_type": "code",
   "execution_count": 4,
   "id": "232782c5",
   "metadata": {},
   "outputs": [
    {
     "name": "stdout",
     "output_type": "stream",
     "text": [
      "Occurrence count: {1: 2, 2: 3, 3: 3, 4: 1, 5: 1}\n"
     ]
    }
   ],
   "source": [
    "def count_occurrences(lst):\n",
    "    occurrence_count = {}\n",
    "    for item in lst:\n",
    "        if item in occurrence_count:\n",
    "            occurrence_count[item] += 1\n",
    "        else:\n",
    "            occurrence_count[item] = 1\n",
    "    return occurrence_count\n",
    "\n",
    "numbers = [1, 2, 3, 2, 1, 2, 3, 4, 5, 3]\n",
    "occurrence_count = count_occurrences(numbers)\n",
    "print(\"Occurrence count:\", occurrence_count)\n"
   ]
  },
  {
   "cell_type": "markdown",
   "id": "d86f743a",
   "metadata": {},
   "source": [
    "#### 5. Write a Python program to find the second largest number in a list."
   ]
  },
  {
   "cell_type": "code",
   "execution_count": 5,
   "id": "dcfcbb47",
   "metadata": {},
   "outputs": [
    {
     "name": "stdout",
     "output_type": "stream",
     "text": [
      "The second largest number is: 15\n"
     ]
    }
   ],
   "source": [
    "def find_second_largest(lst):\n",
    "    largest = lst[0]\n",
    "    second_largest = float('-inf')\n",
    "    for num in lst:\n",
    "        if num > largest:\n",
    "            second_largest = largest\n",
    "            largest = num\n",
    "        elif num > second_largest and num != largest:\n",
    "            second_largest = num\n",
    "    return second_largest\n",
    "\n",
    "numbers = [10, 7, 23, 4, 15, 9]\n",
    "second_largest_number = find_second_largest(numbers)\n",
    "print(\"The second largest number is:\", second_largest_number)\n"
   ]
  },
  {
   "cell_type": "markdown",
   "id": "09d964f5",
   "metadata": {},
   "source": [
    "#### 6. Implement a function to remove duplicate elements from a list.\n"
   ]
  },
  {
   "cell_type": "code",
   "execution_count": 6,
   "id": "bac7d622",
   "metadata": {},
   "outputs": [
    {
     "name": "stdout",
     "output_type": "stream",
     "text": [
      "List with duplicates removed: [1, 2, 3, 4, 5]\n"
     ]
    }
   ],
   "source": [
    "def remove_duplicates(lst):\n",
    "    unique_list = []\n",
    "    for item in lst:\n",
    "        if item not in unique_list:\n",
    "            unique_list.append(item)\n",
    "    return unique_list\n",
    "\n",
    "numbers = [1, 2, 3, 2, 1, 2, 3, 4, 5, 3]\n",
    "unique_numbers = remove_duplicates(numbers)\n",
    "print(\"List with duplicates removed:\", unique_numbers)"
   ]
  },
  {
   "cell_type": "markdown",
   "id": "aee8a1c3",
   "metadata": {},
   "source": [
    "#### 7. Write a program to calculate the factorial of a given number."
   ]
  },
  {
   "cell_type": "code",
   "execution_count": 7,
   "id": "fc3278d0",
   "metadata": {},
   "outputs": [
    {
     "name": "stdout",
     "output_type": "stream",
     "text": [
      "Factorial of 5 is 120\n"
     ]
    }
   ],
   "source": [
    "def factorial(n):\n",
    "    if n == 0:\n",
    "        return 1\n",
    "    else:\n",
    "        return n * factorial(n-1)\n",
    "\n",
    "number = 5\n",
    "factorial_result = factorial(number)\n",
    "print(\"Factorial of\", number, \"is\", factorial_result)"
   ]
  },
  {
   "cell_type": "markdown",
   "id": "8cbfa41d",
   "metadata": {},
   "source": [
    "#### 8. Implement a function to check if a given number is prime."
   ]
  },
  {
   "cell_type": "code",
   "execution_count": 8,
   "id": "4c24659e",
   "metadata": {},
   "outputs": [
    {
     "name": "stdout",
     "output_type": "stream",
     "text": [
      "17 is a prime number.\n"
     ]
    }
   ],
   "source": [
    "def is_prime(number):\n",
    "    if number <= 1:\n",
    "        return False\n",
    "    for i in range(2, int(number**0.5) + 1):\n",
    "        if number % i == 0:\n",
    "            return False\n",
    "    return True\n",
    "\n",
    "number = 17\n",
    "if is_prime(number):\n",
    "    print(number, \"is a prime number.\")\n",
    "else:\n",
    "    print(number, \"is not a prime number.\")"
   ]
  },
  {
   "cell_type": "markdown",
   "id": "99681cbc",
   "metadata": {},
   "source": [
    "#### 9. Write a Python program to sort a list of integers in ascending order."
   ]
  },
  {
   "cell_type": "code",
   "execution_count": 9,
   "id": "ee2cbddf",
   "metadata": {},
   "outputs": [
    {
     "name": "stdout",
     "output_type": "stream",
     "text": [
      "Sorted list: [1, 2, 3, 5, 7, 9]\n"
     ]
    }
   ],
   "source": [
    "def sort_list(lst):\n",
    "    sorted_list = lst[:]\n",
    "    for i in range(len(sorted_list)):\n",
    "        for j in range(i+1, len(sorted_list)):\n",
    "            if sorted_list[i] > sorted_list[j]:\n",
    "                sorted_list[i], sorted_list[j] = sorted_list[j], sorted_list[i]\n",
    "    return sorted_list\n",
    "\n",
    "numbers = [5, 2, 9, 1, 7, 3]\n",
    "sorted_numbers = sort_list(numbers)\n",
    "print(\"Sorted list:\", sorted_numbers)"
   ]
  },
  {
   "cell_type": "markdown",
   "id": "1ff3d7a8",
   "metadata": {},
   "source": [
    "#### 10. Implement a function to find the sum of all numbers in a list."
   ]
  },
  {
   "cell_type": "code",
   "execution_count": 10,
   "id": "e3cb5d80",
   "metadata": {},
   "outputs": [
    {
     "name": "stdout",
     "output_type": "stream",
     "text": [
      "Sum of numbers: 15\n"
     ]
    }
   ],
   "source": [
    "def find_sum(lst):\n",
    "    total = 0\n",
    "    for num in lst:\n",
    "        total += num\n",
    "    return total\n",
    "\n",
    "numbers = [1, 2, 3, 4, 5]\n",
    "sum_of_numbers = find_sum(numbers)\n",
    "print(\"Sum of numbers:\", sum_of_numbers)"
   ]
  },
  {
   "cell_type": "markdown",
   "id": "e4696fd3",
   "metadata": {},
   "source": [
    "#### 11. Write a program to find the common elements between two lists."
   ]
  },
  {
   "cell_type": "code",
   "execution_count": 11,
   "id": "85d58742",
   "metadata": {},
   "outputs": [
    {
     "name": "stdout",
     "output_type": "stream",
     "text": [
      "Common elements: [4, 5]\n"
     ]
    }
   ],
   "source": [
    "def find_common_elements(list1, list2):\n",
    "    common_elements = []\n",
    "    for item in list1:\n",
    "        if item in list2 and item not in common_elements:\n",
    "            common_elements.append(item)\n",
    "    return common_elements\n",
    "\n",
    "list1 = [1, 2, 3, 4, 5]\n",
    "list2 = [4, 5, 6, 7, 8]\n",
    "common_elements = find_common_elements(list1, list2)\n",
    "print(\"Common elements:\", common_elements)"
   ]
  },
  {
   "cell_type": "markdown",
   "id": "772890c1",
   "metadata": {},
   "source": [
    "#### 12. Implement a function to check if a given string is an anagram of another string."
   ]
  },
  {
   "cell_type": "code",
   "execution_count": 12,
   "id": "5a07e6bd",
   "metadata": {},
   "outputs": [
    {
     "name": "stdout",
     "output_type": "stream",
     "text": [
      "The strings are anagrams.\n"
     ]
    }
   ],
   "source": [
    "def is_anagram(str1, str2):\n",
    "    str1 = str1.replace(\" \", \"\").lower()\n",
    "    str2 = str2.replace(\" \", \"\").lower()\n",
    "    return sorted(str1) == sorted(str2)\n",
    "\n",
    "string1 = \"listen\"\n",
    "string2 = \"silent\"\n",
    "if is_anagram(string1, string2):\n",
    "    print(\"The strings are anagrams.\")\n",
    "else:\n",
    "    print(\"The strings are not anagrams.\")"
   ]
  },
  {
   "cell_type": "markdown",
   "id": "ef3c70d2",
   "metadata": {},
   "source": [
    "#### 13. Write a Python program to generate all permutations of a given string."
   ]
  },
  {
   "cell_type": "code",
   "execution_count": 13,
   "id": "279ae3e2",
   "metadata": {},
   "outputs": [
    {
     "name": "stdout",
     "output_type": "stream",
     "text": [
      "Permutations of abc : ['abc', 'acb', 'bac', 'bca', 'cab', 'cba']\n"
     ]
    }
   ],
   "source": [
    "def permutations(string):\n",
    "    if len(string) == 1:\n",
    "        return [string]\n",
    "    perms = []\n",
    "    for i in range(len(string)):\n",
    "        char = string[i]\n",
    "        remaining = string[:i] + string[i+1:]\n",
    "        for perm in permutations(remaining):\n",
    "            perms.append(char + perm)\n",
    "    return perms\n",
    "\n",
    "string = \"abc\"\n",
    "string_perms = permutations(string)\n",
    "print(\"Permutations of\", string, \":\", string_perms)"
   ]
  },
  {
   "cell_type": "markdown",
   "id": "274e1687",
   "metadata": {},
   "source": [
    "#### 14. Implement a function to calculate the Fibonacci sequence up to a given number of terms."
   ]
  },
  {
   "cell_type": "code",
   "execution_count": 14,
   "id": "9e991438",
   "metadata": {},
   "outputs": [
    {
     "name": "stdout",
     "output_type": "stream",
     "text": [
      "Fibonacci sequence: [0, 1, 1, 2, 3, 5, 8, 13, 21, 34, 55]\n"
     ]
    }
   ],
   "source": [
    "def fibonacci(n):\n",
    "    sequence = [0, 1]\n",
    "    if n <= 1:\n",
    "        return sequence[:n+1]\n",
    "    while len(sequence) < n+1:\n",
    "        next_num = sequence[-1] + sequence[-2]\n",
    "        sequence.append(next_num)\n",
    "    return sequence\n",
    "\n",
    "num_terms = 10\n",
    "fibonacci_sequence = fibonacci(num_terms)\n",
    "print(\"Fibonacci sequence:\", fibonacci_sequence)"
   ]
  },
  {
   "cell_type": "markdown",
   "id": "123bd583",
   "metadata": {},
   "source": [
    "#### 15. Write a program to find the median of a list of numbers."
   ]
  },
  {
   "cell_type": "code",
   "execution_count": 15,
   "id": "6991cb42",
   "metadata": {},
   "outputs": [
    {
     "name": "stdout",
     "output_type": "stream",
     "text": [
      "The median is: 6.0\n"
     ]
    }
   ],
   "source": [
    "def find_median(lst):\n",
    "    sorted_list = sorted(lst)\n",
    "    n = len(sorted_list)\n",
    "    if n % 2 == 0:\n",
    "        mid1 = n // 2\n",
    "        mid2 = mid1 - 1\n",
    "        median = (sorted_list[mid1] + sorted_list[mid2]) / 2\n",
    "    else:\n",
    "        mid = n // 2\n",
    "        median = sorted_list[mid]\n",
    "    return median\n",
    "\n",
    "numbers = [7, 2, 10, 5, 4, 8]\n",
    "median = find_median(numbers)\n",
    "print(\"The median is:\", median)"
   ]
  },
  {
   "cell_type": "markdown",
   "id": "42fa6606",
   "metadata": {},
   "source": [
    "#### 16. Implement a function to check if a given list is sorted in non-decreasing order."
   ]
  },
  {
   "cell_type": "code",
   "execution_count": 16,
   "id": "c799d57c",
   "metadata": {},
   "outputs": [
    {
     "name": "stdout",
     "output_type": "stream",
     "text": [
      "The list is sorted in non-decreasing order.\n"
     ]
    }
   ],
   "source": [
    "def  non_decreasing_order(lst):\n",
    "    n = len(lst)\n",
    "    if n <= 1:\n",
    "        return True\n",
    "    for i in range(1, n):\n",
    "        if lst[i] < lst[i-1]:\n",
    "            return False\n",
    "    return True\n",
    "\n",
    "my_list=[1,2,3,4,5,6]\n",
    "if non_decreasing_order(my_list):\n",
    "    print(\"The list is sorted in non-decreasing order.\")\n",
    "else:\n",
    "    print(\"The list is not sorted in non-decreasing order.\")"
   ]
  },
  {
   "cell_type": "markdown",
   "id": "266ccd02",
   "metadata": {},
   "source": [
    "#### 17. Write a Python program to find the intersection of two lists."
   ]
  },
  {
   "cell_type": "code",
   "execution_count": 17,
   "id": "488a5b16",
   "metadata": {},
   "outputs": [
    {
     "name": "stdout",
     "output_type": "stream",
     "text": [
      "Intersection: [4, 5]\n"
     ]
    }
   ],
   "source": [
    "def find_intersection(list1, list2):\n",
    "    return list(set(list1) & set(list2))\n",
    "\n",
    "list1 = [1, 2, 3, 4, 5]\n",
    "list2 = [4, 5, 6, 7, 8]\n",
    "intersection = find_intersection(list1, list2)\n",
    "print(\"Intersection:\", intersection)"
   ]
  },
  {
   "cell_type": "markdown",
   "id": "1667ab10",
   "metadata": {},
   "source": [
    "#### 18. Implement a function to find the maximum subarray sum in a given list."
   ]
  },
  {
   "cell_type": "code",
   "execution_count": 18,
   "id": "0a1c1381",
   "metadata": {},
   "outputs": [
    {
     "name": "stdout",
     "output_type": "stream",
     "text": [
      "Maximum subarray sum: 7\n"
     ]
    }
   ],
   "source": [
    "def find_max_subarray_sum(lst):\n",
    "    current_sum = max_sum = lst[0]\n",
    "    for num in lst[1:]:\n",
    "        current_sum = max(num, current_sum + num)\n",
    "        max_sum = max(max_sum, current_sum)\n",
    "    return max_sum\n",
    "\n",
    "numbers = [2, -3, 4, -1, -2, 1, 5, -3]\n",
    "max_sum = find_max_subarray_sum(numbers)\n",
    "print(\"Maximum subarray sum:\", max_sum)"
   ]
  },
  {
   "cell_type": "markdown",
   "id": "cb30491e",
   "metadata": {},
   "source": [
    "#### 19. Write a program to remove all vowels from a given string."
   ]
  },
  {
   "cell_type": "code",
   "execution_count": 19,
   "id": "f2c9f17c",
   "metadata": {},
   "outputs": [
    {
     "name": "stdout",
     "output_type": "stream",
     "text": [
      "String without vowels: Hll, Wrld!\n"
     ]
    }
   ],
   "source": [
    "def remove_vowels(string):\n",
    "    vowels = ['a', 'e', 'i', 'o', 'u']\n",
    "    return ''.join(char for char in string if char.lower() not in vowels)\n",
    "\n",
    "input_string = \"Hello, World!\"\n",
    "result = remove_vowels(input_string)\n",
    "print(\"String without vowels:\", result)\n"
   ]
  },
  {
   "cell_type": "markdown",
   "id": "66e15e14",
   "metadata": {},
   "source": [
    "#### 20. Implement a function to reverse the order of words in a given sentence."
   ]
  },
  {
   "cell_type": "code",
   "execution_count": 20,
   "id": "911034c0",
   "metadata": {},
   "outputs": [
    {
     "name": "stdout",
     "output_type": "stream",
     "text": [
      "Reversed sentence: iNeuron. to Welcome World! Hello,\n"
     ]
    }
   ],
   "source": [
    "def reverse_words(sentence):\n",
    "    words = sentence.split()\n",
    "    reversed_words = ' '.join(reversed(words))\n",
    "    return reversed_words\n",
    "\n",
    "input_sentence = \"Hello, World! Welcome to iNeuron.\"\n",
    "reversed_sentence = reverse_words(input_sentence)\n",
    "print(\"Reversed sentence:\", reversed_sentence)"
   ]
  },
  {
   "cell_type": "markdown",
   "id": "a0294a68",
   "metadata": {},
   "source": [
    "#### 21. Write a Python program to check if two strings are anagrams of each other."
   ]
  },
  {
   "cell_type": "code",
   "execution_count": 21,
   "id": "1df04170",
   "metadata": {},
   "outputs": [
    {
     "name": "stdout",
     "output_type": "stream",
     "text": [
      "The strings are anagrams.\n"
     ]
    }
   ],
   "source": [
    "def is_anagram(str1, str2):\n",
    "    str1 = str1.replace(\" \", \"\").lower()\n",
    "    str2 = str2.replace(\" \", \"\").lower()\n",
    "    return sorted(str1) == sorted(str2)\n",
    "\n",
    "string1 = \"listen\"\n",
    "string2 = \"silent\"\n",
    "if is_anagram(string1, string2):\n",
    "    print(\"The strings are anagrams.\")\n",
    "else:\n",
    "    print(\"The strings are not anagrams.\")\n"
   ]
  },
  {
   "cell_type": "markdown",
   "id": "171f5cd1",
   "metadata": {},
   "source": [
    "#### 22. Implement a function to find the first non-repeating character in a string.\n"
   ]
  },
  {
   "cell_type": "code",
   "execution_count": 22,
   "id": "b93fd635",
   "metadata": {},
   "outputs": [
    {
     "name": "stdout",
     "output_type": "stream",
     "text": [
      "First non-repeating character: c\n"
     ]
    }
   ],
   "source": [
    "def find_first_non_repeating_char(string):\n",
    "    char_count = {}\n",
    "    for char in string:\n",
    "        if char in char_count:\n",
    "            char_count[char] += 1\n",
    "        else:\n",
    "            char_count[char] = 1\n",
    "    for char in string:\n",
    "        if char_count[char] == 1:\n",
    "            return char\n",
    "    return None\n",
    "\n",
    "input_string = \"abracadabra\"\n",
    "non_repeating_char = find_first_non_repeating_char(input_string)\n",
    "if non_repeating_char:\n",
    "    print(\"First non-repeating character:\", non_repeating_char)\n",
    "else:\n",
    "    print(\"No non-repeating character found.\")\n"
   ]
  },
  {
   "cell_type": "markdown",
   "id": "051b6745",
   "metadata": {},
   "source": [
    "#### 23. Write a program to find the prime factors of a given number.\n"
   ]
  },
  {
   "cell_type": "code",
   "execution_count": 23,
   "id": "0e542f87",
   "metadata": {},
   "outputs": [
    {
     "name": "stdout",
     "output_type": "stream",
     "text": [
      "Prime factors of 84 are: [2, 2, 3, 7]\n"
     ]
    }
   ],
   "source": [
    "def find_prime_factors(number):\n",
    "    prime_factors = []\n",
    "    divisor = 2\n",
    "    while divisor <= number:\n",
    "        if number % divisor == 0:\n",
    "            prime_factors.append(divisor)\n",
    "            number = number // divisor\n",
    "        else:\n",
    "            divisor += 1\n",
    "    return prime_factors\n",
    "\n",
    "number = 84\n",
    "prime_factors = find_prime_factors(number)\n",
    "print(\"Prime factors of\", number, \"are:\", prime_factors)\n"
   ]
  },
  {
   "cell_type": "markdown",
   "id": "ddca3596",
   "metadata": {},
   "source": [
    "#### 24. Implement a function to check if a given number is a power of two.\n"
   ]
  },
  {
   "cell_type": "code",
   "execution_count": 24,
   "id": "9f905fd5",
   "metadata": {},
   "outputs": [
    {
     "name": "stdout",
     "output_type": "stream",
     "text": [
      "16 is a power of two.\n"
     ]
    }
   ],
   "source": [
    "def is_power_of_two(number):\n",
    "    if number <= 0:\n",
    "        return False\n",
    "    return (number & (number - 1)) == 0\n",
    "\n",
    "number = 16\n",
    "if is_power_of_two(number):\n",
    "    print(number, \"is a power of two.\")\n",
    "else:\n",
    "    print(number, \"is not a power of two.\")\n",
    "\n"
   ]
  },
  {
   "cell_type": "markdown",
   "id": "326367d5",
   "metadata": {},
   "source": [
    "#### 25. Write a Python program to merge two sorted lists into a single sorted list.\n"
   ]
  },
  {
   "cell_type": "code",
   "execution_count": 25,
   "id": "198cac40",
   "metadata": {},
   "outputs": [
    {
     "name": "stdout",
     "output_type": "stream",
     "text": [
      "Merged and sorted list: [1, 2, 3, 4, 5, 6, 7, 8]\n"
     ]
    }
   ],
   "source": [
    "def merge_sorted_lists(list1, list2):\n",
    "    merged_list = []\n",
    "    i = j = 0\n",
    "    while i < len(list1) and j < len(list2):\n",
    "        if list1[i] <= list2[j]:\n",
    "            merged_list.append(list1[i])\n",
    "            i += 1\n",
    "        else:\n",
    "            merged_list.append(list2[j])\n",
    "            j += 1\n",
    "    merged_list.extend(list1[i:])\n",
    "    merged_list.extend(list2[j:])\n",
    "    return merged_list\n",
    "\n",
    "list1 = [1, 3, 5, 7]\n",
    "list2 = [2, 4, 6, 8]\n",
    "merged_list = merge_sorted_lists(list1, list2)\n",
    "print(\"Merged and sorted list:\", merged_list)\n"
   ]
  },
  {
   "cell_type": "markdown",
   "id": "9b72801b",
   "metadata": {},
   "source": [
    "#### 26. Implement a function to find the mode of a list of numbers.\n"
   ]
  },
  {
   "cell_type": "code",
   "execution_count": 26,
   "id": "a4415c82",
   "metadata": {},
   "outputs": [
    {
     "name": "stdout",
     "output_type": "stream",
     "text": [
      "Mode(s): [2, 3]\n"
     ]
    }
   ],
   "source": [
    "from collections import Counter\n",
    "\n",
    "def find_mode(lst):\n",
    "    counts = Counter(lst)\n",
    "    max_count = max(counts.values())\n",
    "    mode = [num for num, count in counts.items() if count == max_count]\n",
    "    return mode\n",
    "\n",
    "numbers = [1, 2, 3, 2, 1, 2, 3, 4, 5, 3]\n",
    "mode = find_mode(numbers)\n",
    "print(\"Mode(s):\", mode)\n"
   ]
  },
  {
   "cell_type": "markdown",
   "id": "ed2a48b3",
   "metadata": {},
   "source": [
    "#### 27. Write a program to find the greatest common divisor (GCD) of two numbers.\n"
   ]
  },
  {
   "cell_type": "code",
   "execution_count": 27,
   "id": "99f47e8f",
   "metadata": {},
   "outputs": [
    {
     "name": "stdout",
     "output_type": "stream",
     "text": [
      "GCD of 36 and 48 is: 12\n"
     ]
    }
   ],
   "source": [
    "def find_gcd(a, b):\n",
    "    while b:\n",
    "        a, b = b, a % b\n",
    "    return a\n",
    "\n",
    "num1 = 36\n",
    "num2 = 48\n",
    "gcd = find_gcd(num1, num2)\n",
    "print(\"GCD of\", num1, \"and\", num2, \"is:\", gcd)\n"
   ]
  },
  {
   "cell_type": "markdown",
   "id": "3c4257b8",
   "metadata": {},
   "source": [
    "#### 28. Implement a function to calculate the square root of a given number.\n"
   ]
  },
  {
   "cell_type": "code",
   "execution_count": 28,
   "id": "51a27c33",
   "metadata": {},
   "outputs": [
    {
     "name": "stdout",
     "output_type": "stream",
     "text": [
      "Square root of 25 is: 5.000000000053722\n"
     ]
    }
   ],
   "source": [
    "def square_root(number):\n",
    "    if number < 0:\n",
    "        return None\n",
    "    if number == 0:\n",
    "        return 0\n",
    "    guess = number\n",
    "    while True:\n",
    "        new_guess = (guess + number / guess) / 2\n",
    "        if abs(new_guess - guess) < 0.0001:\n",
    "            return new_guess\n",
    "        guess = new_guess\n",
    "\n",
    "number = 25\n",
    "sqrt = square_root(number)\n",
    "print(\"Square root of\", number, \"is:\", sqrt)\n"
   ]
  },
  {
   "cell_type": "markdown",
   "id": "0ab2f265",
   "metadata": {},
   "source": [
    "#### 29. Write a Python program to check if a given string is a valid palindrome ignoring non-alphanumeric characters.\n"
   ]
  },
  {
   "cell_type": "code",
   "execution_count": 29,
   "id": "db0ce6f9",
   "metadata": {},
   "outputs": [
    {
     "name": "stdout",
     "output_type": "stream",
     "text": [
      "The string is a valid palindrome.\n"
     ]
    }
   ],
   "source": [
    "def is_valid_palindrome(string):\n",
    "    alphanumeric_string = ''.join(char.lower() for char in string if char.isalnum())\n",
    "    return alphanumeric_string == alphanumeric_string[::-1]\n",
    "\n",
    "input_string = \"A man, a plan, a canal: Panama\"\n",
    "if is_valid_palindrome(input_string):\n",
    "    print(\"The string is a valid palindrome.\")\n",
    "else:\n",
    "    print(\"The string is not a valid palindrome.\")\n"
   ]
  },
  {
   "cell_type": "markdown",
   "id": "8aa8c74f",
   "metadata": {},
   "source": [
    "#### 30. Implement a function to find the minimum element in a rotated sorted list.\n"
   ]
  },
  {
   "cell_type": "code",
   "execution_count": 30,
   "id": "936bb6be",
   "metadata": {},
   "outputs": [
    {
     "name": "stdout",
     "output_type": "stream",
     "text": [
      "Minimum element: 1\n"
     ]
    }
   ],
   "source": [
    "def find_minimum(lst):\n",
    "    left = 0\n",
    "    right = len(lst) - 1\n",
    "    while left < right:\n",
    "        mid = (left + right) // 2\n",
    "        if lst[mid] > lst[right]:\n",
    "            left = mid + 1\n",
    "        else:\n",
    "            right = mid\n",
    "    return lst[left]\n",
    "\n",
    "numbers = [5, 6, 7, 8, 9, 1, 2, 3, 4]\n",
    "minimum = find_minimum(numbers)\n",
    "print(\"Minimum element:\", minimum)\n"
   ]
  },
  {
   "cell_type": "markdown",
   "id": "1c8f83bb",
   "metadata": {},
   "source": [
    "#### 31. Write a program to find the sum of all even numbers in a list.\n"
   ]
  },
  {
   "cell_type": "code",
   "execution_count": 31,
   "id": "feb761c0",
   "metadata": {},
   "outputs": [
    {
     "name": "stdout",
     "output_type": "stream",
     "text": [
      "Sum of even numbers: 30\n"
     ]
    }
   ],
   "source": [
    "def find_sum_of_evens(lst):\n",
    "    return sum(num for num in lst if num % 2 == 0)\n",
    "\n",
    "numbers = [1, 2, 3, 4, 5, 6, 7, 8, 9, 10]\n",
    "sum_of_evens = find_sum_of_evens(numbers)\n",
    "print(\"Sum of even numbers:\", sum_of_evens)\n"
   ]
  },
  {
   "cell_type": "markdown",
   "id": "77727ddc",
   "metadata": {},
   "source": [
    "#### 32. Implement a function to calculate the power of a number using recursion.\n"
   ]
  },
  {
   "cell_type": "code",
   "execution_count": 32,
   "id": "5127c629",
   "metadata": {},
   "outputs": [
    {
     "name": "stdout",
     "output_type": "stream",
     "text": [
      "2 raised to the power of 3 is: 8\n"
     ]
    }
   ],
   "source": [
    "def power(base, exponent):\n",
    "    if exponent == 0:\n",
    "        return 1\n",
    "    if exponent < 0:\n",
    "        return 1 / power(base, -exponent)\n",
    "    return base * power(base, exponent-1)\n",
    "\n",
    "base = 2\n",
    "exponent = 3\n",
    "result = power(base, exponent)\n",
    "print(base, \"raised to the power of\", exponent, \"is:\", result)\n",
    "\n",
    "\n"
   ]
  },
  {
   "cell_type": "markdown",
   "id": "f085f302",
   "metadata": {},
   "source": [
    "#### 33. Write a Python program to remove duplicates from a list while preserving the order.\n"
   ]
  },
  {
   "cell_type": "code",
   "execution_count": 33,
   "id": "ed7d1144",
   "metadata": {},
   "outputs": [
    {
     "name": "stdout",
     "output_type": "stream",
     "text": [
      "List with duplicates removed: [1, 2, 3, 4, 5]\n"
     ]
    }
   ],
   "source": [
    "def remove_duplicates(lst):\n",
    "    unique_list = []\n",
    "    for item in lst:\n",
    "        if item not in unique_list:\n",
    "            unique_list.append(item)\n",
    "    return unique_list\n",
    "\n",
    "numbers = [1, 2, 3, 2, 1, 2, 3, 4, 5, 3]\n",
    "unique_numbers = remove_duplicates(numbers)\n",
    "print(\"List with duplicates removed:\", unique_numbers)\n",
    "\n"
   ]
  },
  {
   "cell_type": "markdown",
   "id": "203e0755",
   "metadata": {},
   "source": [
    "#### 34. Implement a function to find the longest common prefix among a list of strings.\n"
   ]
  },
  {
   "cell_type": "code",
   "execution_count": 34,
   "id": "a35c19a8",
   "metadata": {},
   "outputs": [
    {
     "name": "stdout",
     "output_type": "stream",
     "text": [
      "Longest common prefix: fl\n"
     ]
    }
   ],
   "source": [
    "def longest_common_prefix(strs):\n",
    "    if not strs:\n",
    "        return \"\"\n",
    "    shortest = min(strs, key=len)\n",
    "    for i, char in enumerate(shortest):\n",
    "        if any(string[i] != char for string in strs):\n",
    "            return shortest[:i]\n",
    "    return shortest\n",
    "\n",
    "strings = [\"flower\", \"flow\", \"flight\"]\n",
    "common_prefix = longest_common_prefix(strings)\n",
    "print(\"Longest common prefix:\", common_prefix)\n"
   ]
  },
  {
   "cell_type": "markdown",
   "id": "c55584f1",
   "metadata": {},
   "source": [
    "#### 35. Write a program to check if a given number is a perfect square.\n"
   ]
  },
  {
   "cell_type": "code",
   "execution_count": 35,
   "id": "67acb55f",
   "metadata": {},
   "outputs": [
    {
     "name": "stdout",
     "output_type": "stream",
     "text": [
      "25 is a perfect square.\n"
     ]
    }
   ],
   "source": [
    "def is_perfect_square(number):\n",
    "    if number < 0:\n",
    "        return False\n",
    "    root = int(number ** 0.5)\n",
    "    return root * root == number\n",
    "\n",
    "number = 25\n",
    "if is_perfect_square(number):\n",
    "    print(number, \"is a perfect square.\")\n",
    "else:\n",
    "    print(number, \"is not a perfect square.\")\n"
   ]
  },
  {
   "cell_type": "markdown",
   "id": "0e2dbb8b",
   "metadata": {},
   "source": [
    "#### 36. Implement a function to calculate the product of all elements in a list.\n"
   ]
  },
  {
   "cell_type": "code",
   "execution_count": 36,
   "id": "12e2700f",
   "metadata": {},
   "outputs": [
    {
     "name": "stdout",
     "output_type": "stream",
     "text": [
      "Product of numbers: 120\n"
     ]
    }
   ],
   "source": [
    "def find_product(lst):\n",
    "    product = 1\n",
    "    for num in lst:\n",
    "        product *= num\n",
    "    return product\n",
    "\n",
    "numbers = [1, 2, 3, 4, 5]\n",
    "product = find_product(numbers)\n",
    "print(\"Product of numbers:\", product)\n"
   ]
  },
  {
   "cell_type": "markdown",
   "id": "56f9be23",
   "metadata": {},
   "source": [
    "#### 37. Write a Python program to reverse the order of words in a sentence while preserving the word order.\n"
   ]
  },
  {
   "cell_type": "code",
   "execution_count": 37,
   "id": "08d83b80",
   "metadata": {},
   "outputs": [
    {
     "name": "stdout",
     "output_type": "stream",
     "text": [
      "Reversed sentence: OpenAI. to Welcome World! Hello,\n"
     ]
    }
   ],
   "source": [
    "\n",
    "def reverse_words(sentence):\n",
    "    words = sentence.split()\n",
    "    reversed_words = ' '.join(reversed(words))\n",
    "    return reversed_words\n",
    "\n",
    "input_sentence = \"Hello, World! Welcome to OpenAI.\"\n",
    "reversed_sentence = reverse_words(input_sentence)\n",
    "print(\"Reversed sentence:\", reversed_sentence)\n"
   ]
  },
  {
   "cell_type": "markdown",
   "id": "43e753c7",
   "metadata": {},
   "source": [
    "#### 38. Implement a function to find the missing number in a given list of consecutive numbers.\n"
   ]
  },
  {
   "cell_type": "code",
   "execution_count": 38,
   "id": "8acb585e",
   "metadata": {},
   "outputs": [
    {
     "name": "stdout",
     "output_type": "stream",
     "text": [
      "Missing number: 4\n"
     ]
    }
   ],
   "source": [
    "def find_missing_number(numbers):\n",
    "    n = len(numbers) + 1\n",
    "    expected_sum = n * (n + 1) // 2\n",
    "    actual_sum = sum(numbers)\n",
    "    missing_number = expected_sum - actual_sum\n",
    "    return missing_number\n",
    "\n",
    "numbers=[1,2,3,5,6]\n",
    "\n",
    "missing_number = find_missing_number(numbers)\n",
    "print(\"Missing number:\", missing_number)"
   ]
  },
  {
   "cell_type": "markdown",
   "id": "3ad74a99",
   "metadata": {},
   "source": [
    "#### 39. Write a program to find the sum of digits of a given number."
   ]
  },
  {
   "cell_type": "code",
   "execution_count": 39,
   "id": "7d24c062",
   "metadata": {},
   "outputs": [
    {
     "name": "stdout",
     "output_type": "stream",
     "text": [
      "Sum of digits: 15\n"
     ]
    }
   ],
   "source": [
    "def sum_of_digits(number):\n",
    "    digit_sum = 0\n",
    "    while number > 0:\n",
    "        digit = number % 10\n",
    "        digit_sum += digit\n",
    "        number = number // 10\n",
    "    return digit_sum\n",
    "\n",
    "number = 12345\n",
    "digit_sum = sum_of_digits(number)\n",
    "print(\"Sum of digits:\", digit_sum)\n",
    "\n"
   ]
  },
  {
   "cell_type": "markdown",
   "id": "7a5987b9",
   "metadata": {},
   "source": [
    "#### 40. Implement a function to check if a given string is a valid palindrome considering case sensitivity.\n",
    "\n"
   ]
  },
  {
   "cell_type": "code",
   "execution_count": 40,
   "id": "1973a0ea",
   "metadata": {},
   "outputs": [
    {
     "name": "stdout",
     "output_type": "stream",
     "text": [
      "Enter a string: karthik\n",
      "The string is not a valid palindrome.\n"
     ]
    }
   ],
   "source": [
    "def is_valid_palindrome(string):\n",
    "    cleaned_string = ''.join(char for char in string if char.isalnum())\n",
    "    return cleaned_string == cleaned_string[::-1]\n",
    "\n",
    "# Example usage\n",
    "input_string = input(\"Enter a string: \")\n",
    "\n",
    "if is_valid_palindrome(input_string):\n",
    "    print(\"The string is a valid palindrome.\")\n",
    "else:\n",
    "    print(\"The string is not a valid palindrome.\")"
   ]
  },
  {
   "cell_type": "markdown",
   "id": "8da9c780",
   "metadata": {},
   "source": [
    "#### 41. Write a Python program to find the smallest missing positive integer in a list.\n"
   ]
  },
  {
   "cell_type": "code",
   "execution_count": 41,
   "id": "4d739dc9",
   "metadata": {},
   "outputs": [
    {
     "name": "stdout",
     "output_type": "stream",
     "text": [
      "Smallest missing positive integer: 2\n"
     ]
    }
   ],
   "source": [
    "def find_smallest_missing_positive(lst):\n",
    "    n = len(lst)\n",
    "    for i in range(n):\n",
    "        while 1 <= lst[i] <= n and lst[lst[i] - 1] != lst[i]:\n",
    "            lst[lst[i] - 1], lst[i] = lst[i], lst[lst[i] - 1]\n",
    "    for i in range(n):\n",
    "        if lst[i] != i + 1:\n",
    "            return i + 1\n",
    "    return n + 1\n",
    "\n",
    "numbers = [3, 4, -1, 1]\n",
    "smallest_missing = find_smallest_missing_positive(numbers)\n",
    "print(\"Smallest missing positive integer:\", smallest_missing)\n"
   ]
  },
  {
   "cell_type": "markdown",
   "id": "06993ca6",
   "metadata": {},
   "source": [
    "#### 42. Implement a function to find the longest palindrome substring in a given string.\n"
   ]
  },
  {
   "cell_type": "code",
   "execution_count": 42,
   "id": "60fd3495",
   "metadata": {},
   "outputs": [
    {
     "name": "stdout",
     "output_type": "stream",
     "text": [
      "Enter a string: karthik\n",
      "Longest palindrome substring: k\n"
     ]
    }
   ],
   "source": [
    "def longest_palindrome(s):\n",
    "    longest = ''\n",
    "    for i in range(len(s)):\n",
    "\n",
    "        left = right = i\n",
    "        while left >= 0 and right < len(s) and s[left] == s[right]:\n",
    "            left -= 1\n",
    "            right += 1\n",
    "        palindrome_odd = s[left + 1 : right]\n",
    "\n",
    "        left = i\n",
    "        right = i + 1\n",
    "        while left >= 0 and right < len(s) and s[left] == s[right]:\n",
    "            left -= 1\n",
    "            right += 1\n",
    "        palindrome_even = s[left + 1 : right]\n",
    "\n",
    "        if len(palindrome_odd) > len(longest):\n",
    "            longest = palindrome_odd\n",
    "        if len(palindrome_even) > len(longest):\n",
    "            longest = palindrome_even\n",
    "\n",
    "    return longest\n",
    "\n",
    "input_string = input(\"Enter a string: \")\n",
    "\n",
    "result = longest_palindrome(input_string)\n",
    "print(\"Longest palindrome substring:\", result)"
   ]
  },
  {
   "cell_type": "markdown",
   "id": "6fb24be7",
   "metadata": {},
   "source": [
    "#### 43. Write a program to find the number of occurrences of a given element in a list.\n"
   ]
  },
  {
   "cell_type": "code",
   "execution_count": 43,
   "id": "8411629e",
   "metadata": {},
   "outputs": [
    {
     "name": "stdout",
     "output_type": "stream",
     "text": [
      "Enter the element to count: 2\n",
      "Number of occurrences of 2: 2\n"
     ]
    }
   ],
   "source": [
    "def count_occurrences(numbers, element):\n",
    "    count = 0\n",
    "    for num in numbers:\n",
    "        if num == element:\n",
    "            count += 1\n",
    "    return count\n",
    "\n",
    "\n",
    "numbers = [1,2,2,3,3,4,4,4,5,6]\n",
    "\n",
    "element = int(input(\"Enter the element to count: \"))\n",
    "\n",
    "occurrences = count_occurrences(numbers, element)\n",
    "print(f\"Number of occurrences of {element}: {occurrences}\")"
   ]
  },
  {
   "cell_type": "markdown",
   "id": "c2d4ac96",
   "metadata": {},
   "source": [
    "#### 44. Implement a function to check if a given number is a perfect number.\n"
   ]
  },
  {
   "cell_type": "code",
   "execution_count": 44,
   "id": "19c5b813",
   "metadata": {},
   "outputs": [
    {
     "name": "stdout",
     "output_type": "stream",
     "text": [
      "Enter a number: 6\n",
      "The number is a perfect number.\n"
     ]
    }
   ],
   "source": [
    "def is_perfect_number(number):\n",
    "    if number <= 0:\n",
    "        return False\n",
    "\n",
    "    divisor_sum = sum(i for i in range(1, number) if number % i == 0)\n",
    "\n",
    "    return divisor_sum == number\n",
    "\n",
    "input_number = int(input(\"Enter a number: \"))\n",
    "\n",
    "if is_perfect_number(input_number):\n",
    "    print(\"The number is a perfect number.\")\n",
    "else:\n",
    "    print(\"The number is not a perfect number.\")"
   ]
  },
  {
   "cell_type": "markdown",
   "id": "0b91ef16",
   "metadata": {},
   "source": [
    "#### 45. Write a Python program to remove all duplicates from a string.\n"
   ]
  },
  {
   "cell_type": "code",
   "execution_count": 45,
   "id": "18edb35e",
   "metadata": {},
   "outputs": [
    {
     "name": "stdout",
     "output_type": "stream",
     "text": [
      "Enter a string: helloo\n",
      "String after removing duplicates: helo\n"
     ]
    }
   ],
   "source": [
    "def remove_duplicates(string):\n",
    "    unique_chars = []\n",
    "    result = \"\"\n",
    "\n",
    "    for char in string:\n",
    "        if char not in unique_chars:\n",
    "            unique_chars.append(char)\n",
    "            result += char\n",
    "\n",
    "    return result\n",
    "\n",
    "# Example usage\n",
    "input_string = input(\"Enter a string: \")\n",
    "\n",
    "result = remove_duplicates(input_string)\n",
    "print(\"String after removing duplicates:\", result)"
   ]
  },
  {
   "cell_type": "markdown",
   "id": "89f5baaa",
   "metadata": {},
   "source": [
    "#### 46. Implement a function to find the first missing positive"
   ]
  },
  {
   "cell_type": "code",
   "execution_count": 46,
   "id": "9dd5720c",
   "metadata": {},
   "outputs": [
    {
     "name": "stdout",
     "output_type": "stream",
     "text": [
      "First missing positive integer: 2\n"
     ]
    }
   ],
   "source": [
    "def find_first_missing_positive(lst):\n",
    "    n = len(lst)\n",
    "    for i in range(n):\n",
    "        while 1 <= lst[i] <= n and lst[lst[i] - 1] != lst[i]:\n",
    "            lst[lst[i] - 1], lst[i] = lst[i], lst[lst[i] - 1]\n",
    "    for i in range(n):\n",
    "        if lst[i] != i + 1:\n",
    "            return i + 1\n",
    "    return n + 1\n",
    "\n",
    "numbers = [3, 4, -1, 1]\n",
    "first_missing_positive = find_first_missing_positive(numbers)\n",
    "print(\"First missing positive integer:\", first_missing_positive)\n"
   ]
  }
 ],
 "metadata": {
  "kernelspec": {
   "display_name": "Python 3 (ipykernel)",
   "language": "python",
   "name": "python3"
  },
  "language_info": {
   "codemirror_mode": {
    "name": "ipython",
    "version": 3
   },
   "file_extension": ".py",
   "mimetype": "text/x-python",
   "name": "python",
   "nbconvert_exporter": "python",
   "pygments_lexer": "ipython3",
   "version": "3.9.13"
  }
 },
 "nbformat": 4,
 "nbformat_minor": 5
}
